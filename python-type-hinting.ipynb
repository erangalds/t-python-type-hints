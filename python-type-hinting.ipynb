{
 "cells": [
  {
   "cell_type": "markdown",
   "id": "ac3520e7",
   "metadata": {},
   "source": [
    "# Python Type Hinting - Tutorial\n",
    "This will be the hands on guide for python type hinting. "
   ]
  },
  {
   "cell_type": "code",
   "execution_count": 1,
   "id": "b3acefbd",
   "metadata": {},
   "outputs": [
    {
     "name": "stdout",
     "output_type": "stream",
     "text": [
      "Without Type Hinting: 5\n",
      "With Type Hinting: 5\n"
     ]
    }
   ],
   "source": [
    "# Example 1\n",
    "# Without type hints\n",
    "def add(a, b):\n",
    "    return a + b\n",
    "\n",
    "# With type hints\n",
    "def add_with_hints(a: int, b: int) -> int:\n",
    "    return a + b\n",
    "\n",
    "print(f'Without Type Hinting: {add(2,3)}')\n",
    "print(f'With Type Hinting: {add(2,3)}')"
   ]
  },
  {
   "cell_type": "code",
   "execution_count": 2,
   "id": "d58d2cff",
   "metadata": {},
   "outputs": [
    {
     "name": "stdout",
     "output_type": "stream",
     "text": [
      "Hello, 123\n"
     ]
    }
   ],
   "source": [
    "# Example 2\n",
    "def greet(name: str) -> str:\n",
    "    return f\"Hello, {name}\"\n",
    "\n",
    "# This will run without a TypeError at runtime,\n",
    "# even though the type hint says 'name' should be a string.\n",
    "# A static type checker would flag this.\n",
    "result = greet(123)\n",
    "print(result) # Output: \"Hello, 123\" (runtime behavior)\n"
   ]
  },
  {
   "cell_type": "code",
   "execution_count": 4,
   "id": "80aeab16",
   "metadata": {},
   "outputs": [
    {
     "name": "stdout",
     "output_type": "stream",
     "text": [
      "basic-mypy-usage-example.py:5: \u001b[1m\u001b[31merror:\u001b[m Argument 1 to \u001b[m\u001b[1m\"greet\"\u001b[m has incompatible type \u001b[m\u001b[1m\"int\"\u001b[m; expected \u001b[m\u001b[1m\"str\"\u001b[m  \u001b[m\u001b[33m[arg-type]\u001b[m\n",
      "\u001b[1m\u001b[31mFound 1 error in 1 file (checked 1 source file)\u001b[m\n"
     ]
    }
   ],
   "source": [
    "# Example 3\n",
    "!mypy basic-mypy-usage-example.py"
   ]
  },
  {
   "cell_type": "code",
   "execution_count": 6,
   "id": "da1b5e38",
   "metadata": {},
   "outputs": [
    {
     "name": "stdout",
     "output_type": "stream",
     "text": [
      "# Basic types\n",
      "age: int = 30\n",
      "name: str = \"Alice\"\n",
      "price: float = 99.99\n",
      "is_active: bool = True\n",
      "\n",
      "# Variable without an initial value\n",
      "# This is useful for clarity, though `mypy` can often infer\n",
      "# if you assign later.\n",
      "country: str\n",
      "country = \"Sri Lanka\"\n",
      "\n",
      "# Bad practice: changing type after assignment (mypy will flag)\n",
      "greeting: str = \"Hello\"\n",
      "greeting = 123 # Mypy error!\n",
      "\n",
      "basic-variable-type-hinting.py:15: \u001b[1m\u001b[31merror:\u001b[m Incompatible types in assignment (expression has type \u001b[m\u001b[1m\"int\"\u001b[m, variable has type \u001b[m\u001b[1m\"str\"\u001b[m)  \u001b[m\u001b[33m[assignment]\u001b[m\n",
      "\u001b[1m\u001b[31mFound 1 error in 1 file (checked 1 source file)\u001b[m\n"
     ]
    }
   ],
   "source": [
    "# Example 4\n",
    "!cat basic-variable-type-hinting.py\n",
    "!mypy basic-variable-type-hinting.py\n"
   ]
  },
  {
   "cell_type": "code",
   "execution_count": 7,
   "id": "4fdfacdc",
   "metadata": {},
   "outputs": [
    {
     "name": "stdout",
     "output_type": "stream",
     "text": [
      "Hello, Bob!\n",
      "Area: 17.6\n"
     ]
    }
   ],
   "source": [
    "# Example 5\n",
    "# Function with type hints\n",
    "# input parameter person_name is a string\n",
    "# return type is None   \n",
    "def say_hello(person_name: str) -> None:\n",
    "    \"\"\"Greets a person by name.\"\"\"\n",
    "    print(f\"Hello, {person_name}!\")\n",
    "# input parameters length and width are both float\n",
    "# return type is float  \n",
    "def calculate_area(length: float, width: float) -> float:\n",
    "    \"\"\"Calculates the area of a rectangle.\"\"\"\n",
    "    return length * width\n",
    "\n",
    "# Calling the functions\n",
    "say_hello(\"Bob\")\n",
    "area = calculate_area(5.5, 3.2)\n",
    "print(f\"Area: {area}\")\n"
   ]
  },
  {
   "cell_type": "code",
   "execution_count": 9,
   "id": "54f93ffd",
   "metadata": {},
   "outputs": [
    {
     "name": "stdout",
     "output_type": "stream",
     "text": [
      "# Function with type hints\n",
      "# input parameter first and last both are strings\n",
      "# return type is a string\n",
      "def get_full_name(first: str, last: str) -> str:\n",
      "    \"\"\"Returns the full name.\"\"\"\n",
      "    return f\"{first} {last}\"\n",
      "# Input parameter message is a string\n",
      "# Return type is None\n",
      "def print_message(message: str) -> None:\n",
      "    \"\"\"Prints a message. Returns nothing.\"\"\"\n",
      "    print(message)\n",
      "\n",
      "# Functions returning None\n",
      "# input event_date is a string\n",
      "# Since the return type is not explicitly specified, it's None\n",
      "def log_event(event_data: str):\n",
      "    \"\"\"Logs an event. No explicit return type, implies None.\"\"\"\n",
      "    print(f\"Logging: {event_data}\")\n",
      "\n",
      "# mypy would infer `None` for `log_event` even without `-> None`\n",
      "# but it's good practice to mention the return type for clarity.\n",
      "\n",
      "\u001b[1m\u001b[32mSuccess: no issues found in 1 source file\u001b[m\n"
     ]
    }
   ],
   "source": [
    "# Example 6\n",
    "!cat example-6.py\n",
    "!mypy example-6.py"
   ]
  },
  {
   "cell_type": "code",
   "execution_count": 11,
   "id": "f71623da",
   "metadata": {},
   "outputs": [
    {
     "name": "stdout",
     "output_type": "stream",
     "text": [
      "from typing import Optional\n",
      "\n",
      "def get_user_email(user_id: int) -> Optional[str]:\n",
      "    \"\"\"\n",
      "    Returns user email if found, otherwise None.\n",
      "    \"\"\"\n",
      "    if user_id == 1:\n",
      "        return \"alice@example.com\"\n",
      "    return None\n",
      "\n",
      "user_email = get_user_email(1)\n",
      "if user_email: # Recommended way to check for None\n",
      "    print(f\"User email: {user_email.upper()}\")\n",
      "else:\n",
      "    print(\"User not found.\")\n",
      "\n",
      "user_email_2 = get_user_email(2)\n",
      "# mypy will warn if you try to call .upper() on user_email_2 directly\n",
      "# without a None check, because it knows Optional[str] might be None.\n",
      "#\n",
      "# Run mypy again after uncommenting below\n",
      "print(user_email_2.upper()) # Mypy error!\n",
      "\n",
      "example-7.py:22: \u001b[1m\u001b[31merror:\u001b[m Item \u001b[m\u001b[1m\"None\"\u001b[m of \u001b[m\u001b[1m\"str | None\"\u001b[m has no attribute \u001b[m\u001b[1m\"upper\"\u001b[m  \u001b[m\u001b[33m[union-attr]\u001b[m\n",
      "\u001b[1m\u001b[31mFound 1 error in 1 file (checked 1 source file)\u001b[m\n"
     ]
    }
   ],
   "source": [
    "# Example 7\n",
    "! cat example-7.py\n",
    "! mypy example-7.py"
   ]
  },
  {
   "cell_type": "code",
   "execution_count": 12,
   "id": "9e2ee3ee",
   "metadata": {},
   "outputs": [
    {
     "name": "stdout",
     "output_type": "stream",
     "text": [
      "from typing import Union\n",
      "\n",
      "def process_input(value: Union[str, int]) -> Union[str, int]:\n",
      "    \"\"\"\n",
      "    Processes input which can be a string or an integer.\n",
      "    Returns processed string or integer.\n",
      "    \"\"\"\n",
      "    if isinstance(value, int):\n",
      "        return value * 2\n",
      "    else: # It must be a string\n",
      "        return value.upper()\n",
      "\n",
      "print(process_input(10))     # Output: 20\n",
      "print(process_input(\"hello\")) # Output: HELLO\n",
      "\n",
      "# Python 3.10+ simplified Union syntax (PEP 604)\n",
      "def process_input_310_plus(value: str | int) -> str | int:\n",
      "    \"\"\"Same as above, using the new pipe syntax.\"\"\"\n",
      "    if isinstance(value, int):\n",
      "        return value * 2\n",
      "    else:\n",
      "        return value.upper()\n",
      "\n",
      "\u001b[1m\u001b[32mSuccess: no issues found in 1 source file\u001b[m\n"
     ]
    }
   ],
   "source": [
    "# Example 8\n",
    "!cat example-8.py\n",
    "!mypy example-8.py"
   ]
  },
  {
   "cell_type": "code",
   "execution_count": 14,
   "id": "37a50a5d",
   "metadata": {},
   "outputs": [
    {
     "name": "stdout",
     "output_type": "stream",
     "text": [
      "from typing import List, Tuple, Dict, Set\n",
      "from typing import Union\n",
      "\n",
      "# List of integers\n",
      "numbers: List[int] = [1, 2, 3]\n",
      "\n",
      "# List of strings\n",
      "names: List[str] = [\"Alice\", \"Bob\", \"Charlie\"]\n",
      "\n",
      "# List with both strings and integers\n",
      "values: List[Union[str, int]] = [\"hello\", 123]\n",
      "\n",
      "# Tuple with specific types at each position (fixed size)\n",
      "user_data: Tuple[str, int, bool] = (\"Alice\", 30, True)\n",
      "\n",
      "# Tuple with all elements of the same type (variable size)\n",
      "# (Used less often than List for homogenous collections)\n",
      "coordinates: Tuple[float, ...] = (10.5, 20.0, 30.1)\n",
      "\n",
      "# Dictionary with string keys and integer values\n",
      "scores: Dict[str, int] = {\"Math\": 90, \"Science\": 85}\n",
      "\n",
      "# Dictionary with string keys and string or integer values\n",
      "user_info: Dict[str, Union[str, int]] = {\"name\": \"Alice\", \"age\": 30}\n",
      "\n",
      "# Set of strings\n",
      "tags: Set[str] = {\"python\", \"programming\", \"types\"}\n",
      "\n",
      "# Nested types\n",
      "data: Dict[str, List[int]] = {\"even\": [2, 4], \"odd\": [1, 3]}\n",
      "\n",
      "# Python 3.9+ simplified generic types (PEP 585)\n",
      "# You can use `list[int]` instead of `List[int]` etc.\n",
      "# This is now the preferred way.\n",
      "new_numbers: list[int] = [1, 2, 3]\n",
      "new_scores: dict[str, int] = {\"Math\": 90, \"Science\": 85}\n",
      "\n",
      "# Same above in python 3.9+\n",
      "# List with both strings and integers\n",
      "values2: list[str | int] = [\"hello\", 123]\n",
      "\n",
      "# Dictionary with string keys and string or integer values\n",
      "user_info2: Dict[str, str | int] = {\"name\": \"Alice\", \"age\": 30}\n",
      "\n",
      "\u001b[1m\u001b[32mSuccess: no issues found in 1 source file\u001b[m\n"
     ]
    }
   ],
   "source": [
    "# Example 9\n",
    "!cat example-9.py\n",
    "!mypy example-9.py"
   ]
  },
  {
   "cell_type": "code",
   "execution_count": 15,
   "id": "e5babbf7",
   "metadata": {},
   "outputs": [
    {
     "name": "stdout",
     "output_type": "stream",
     "text": [
      "from typing import List, Tuple, Dict, Union # Use built-in generics in 3.9+\n",
      "\n",
      "# Example 1: TypeAlias (from Python 3.10)\n",
      "from typing import TypeAlias\n",
      "# Defining the alias \n",
      "Vector = List[float] # Or `list[float]` in 3.9+\n",
      "\n",
      "def scale_vector(scalar: float, vector: Vector) -> Vector:\n",
      "    return [scalar * num for num in vector]\n",
      "\n",
      "# Example 2: `type` statement (from Python 3.12)\n",
      "type Point = Tuple[int, int] # Or `tuple[int, int]` in 3.9+\n",
      "type UserDict = Dict[str, Union[str, int, bool]] # Or `dict[str, str | int | bool]` in 3.9+\n",
      "\n",
      "def get_distance(p1: Point, p2: Point) -> float:\n",
      "    return ((p1[0] - p2[0])**2 + (p1[1] - p2[1])**2)**0.5\n",
      "\n",
      "def process_user_data(user: UserDict) -> str:\n",
      "    return f\"User: {user['name']}, Age: {user['age']}\"\n",
      "\n",
      "# Old way (before 3.10 for TypeAlias, before 3.12 for `type` statement)\n",
      "# Position = Tuple[float, float, float]\n",
      "# def get_position() -> Position:\n",
      "#     return (1.0, 2.0, 3.0)\n",
      "\n",
      "\u001b[1m\u001b[32mSuccess: no issues found in 1 source file\u001b[m\n"
     ]
    }
   ],
   "source": [
    "# Example 10\n",
    "!cat example-10.py\n",
    "!mypy example-10.py"
   ]
  },
  {
   "cell_type": "code",
   "execution_count": null,
   "id": "d0160937",
   "metadata": {},
   "outputs": [
    {
     "name": "stdout",
     "output_type": "stream",
     "text": [
      "from typing import Any\n",
      "\n",
      "def process_anything(data: Any) -> Any:\n",
      "    \"\"\"Processes data of any type and returns data of any type.\"\"\"\n",
      "    print(f\"Processing: {data} of type {type(data)}\")\n",
      "    return data\n",
      "\n",
      "process_anything(\"hello\")\n",
      "process_anything(123)\n",
      "process_anything([1, 2, 3])\n",
      "\n",
      "\u001b[1m\u001b[32mSuccess: no issues found in 1 source file\u001b[m\n"
     ]
    }
   ],
   "source": [
    "# Example 11\n",
    "!cat example-11.py\n",
    "!mypy example-11.py"
   ]
  },
  {
   "cell_type": "code",
   "execution_count": 20,
   "id": "2ec6e851",
   "metadata": {},
   "outputs": [
    {
     "name": "stdout",
     "output_type": "stream",
     "text": [
      "# We define a custom class called Dog\n",
      "class Dog:\n",
      "    def __init__(self, name: str, age: int):\n",
      "        self.name: str = name\n",
      "        self.age: int = age\n",
      "\n",
      "    def bark(self) -> str:\n",
      "        return f\"{self.name} says Woof!\"\n",
      "# We use that custom class as a type hint\n",
      "def get_dog_info(dog: Dog) -> str:\n",
      "    \"\"\"Returns information about a dog.\"\"\"\n",
      "    return f\"Name: {dog.name}, Age: {dog.age}, Bark: {dog.bark()}\"\n",
      "\n",
      "my_dog = Dog(\"Buddy\", 5)\n",
      "print(get_dog_info(my_dog))\n",
      "\n",
      "\u001b[1m\u001b[32mSuccess: no issues found in 1 source file\u001b[m\n",
      "Name: Buddy, Age: 5, Bark: Buddy says Woof!\n"
     ]
    }
   ],
   "source": [
    "# Example 12\n",
    "!cat example-12.py\n",
    "!mypy example-12.py\n",
    "!python example-12.py"
   ]
  },
  {
   "cell_type": "code",
   "execution_count": 21,
   "id": "c2571a4e",
   "metadata": {},
   "outputs": [
    {
     "name": "stdout",
     "output_type": "stream",
     "text": [
      "class Circle:\n",
      "    pi: float = 3.14159  # Class variable\n",
      "    radius: float\n",
      "\n",
      "    def __init__(self, radius: float):\n",
      "        self.radius: float = radius\n",
      "\n",
      "    def area(self) -> float:\n",
      "        return self.pi * (self.radius ** 2)\n",
      "\n",
      "c = Circle(10.0)\n",
      "print(f\"Circle area: {c.area()}\")\n",
      "\n",
      "\u001b[1m\u001b[32mSuccess: no issues found in 1 source file\u001b[m\n",
      "Circle area: 314.159\n"
     ]
    }
   ],
   "source": [
    "# Example 13\n",
    "!cat example-13.py\n",
    "!mypy example-13.py\n",
    "!python example-13.py"
   ]
  },
  {
   "cell_type": "code",
   "execution_count": 23,
   "id": "40900576",
   "metadata": {},
   "outputs": [
    {
     "name": "stdout",
     "output_type": "stream",
     "text": [
      "from typing import Callable, List, Any\n",
      "\n",
      "# A function that takes an int and returns a str\n",
      "def format_number(num: int) -> str:\n",
      "    return f\"Number: {num}\"\n",
      "\n",
      "def apply_formatter(numbers: List[int], formatter: Callable[[int], str]) -> List[str]:\n",
      "    \"\"\"Applies a formatter function to each number in a list.\"\"\"\n",
      "    return [formatter(n) for n in numbers]\n",
      "\n",
      "numbers_list = [10, 20, 30]\n",
      "formatted_strings = apply_formatter(numbers_list, format_number)\n",
      "print(formatted_strings) # Output: ['Number: 10', 'Number: 20', 'Number: 30']\n",
      "\n",
      "# Callable with no arguments and no return value\n",
      "def log_action(action: Callable[[], None]) -> None:\n",
      "    print(\"Performing action...\")\n",
      "    action()\n",
      "    print(\"Action complete.\")\n",
      "\n",
      "def send_notification():\n",
      "    print(\"Sending notification...\")\n",
      "\n",
      "log_action(send_notification)\n",
      "\n",
      "# Callable with arbitrary arguments (use `...`)\n",
      "def execute_callback(callback: Callable[..., Any], *args: Any, **kwargs: Any) -> Any:\n",
      "    \"\"\"Executes a callback with arbitrary arguments.\"\"\"\n",
      "    return callback(*args, **kwargs)\n",
      "\n",
      "def sum_two(a: int, b: int) -> int:\n",
      "    return a + b\n",
      "\n",
      "print(execute_callback(sum_two, 5, 7)) # Output: 12\n",
      "\n",
      "\u001b[1m\u001b[32mSuccess: no issues found in 1 source file\u001b[m\n",
      "['Number: 10', 'Number: 20', 'Number: 30']\n",
      "Performing action...\n",
      "Sending notification...\n",
      "Action complete.\n",
      "12\n"
     ]
    }
   ],
   "source": [
    "# Example 14\n",
    "!cat example-14.py\n",
    "!mypy example-14.py\n",
    "!python example-14.py"
   ]
  },
  {
   "cell_type": "code",
   "execution_count": 25,
   "id": "4701e28b",
   "metadata": {},
   "outputs": [
    {
     "name": "stdout",
     "output_type": "stream",
     "text": [
      "from typing import Literal\n",
      "\n",
      "# Can only be 'red', 'green', or 'blue'\n",
      "Color = Literal[\"red\", \"green\", \"blue\"]\n",
      "\n",
      "def set_light_color(color: Color) -> None:\n",
      "    print(f\"Setting light color to: {color}\")\n",
      "\n",
      "set_light_color(\"red\")\n",
      "# Lets run this code twice with mypy by uncommenting the below line\n",
      "#\n",
      "set_light_color(\"yellow\") # Mypy error!\n",
      "\n",
      "# Can only be 1, 2, 3\n",
      "Number = Literal[1, 2, 3]\n",
      "\n",
      "def process_number(num: Number) -> None:\n",
      "    print(f\"Processing number: {num}\")\n",
      "\n",
      "process_number(2)\n",
      "# Lets run this code twice with mypy by uncommenting the below line\n",
      "#\n",
      "process_number(4) # Mypy error!\n",
      "\n",
      "example-15.py:12: \u001b[1m\u001b[31merror:\u001b[m Argument 1 to \u001b[m\u001b[1m\"set_light_color\"\u001b[m has incompatible type \u001b[m\u001b[1m\"Literal['yellow']\"\u001b[m; expected \u001b[m\u001b[1m\"Literal['red', 'green', 'blue']\"\u001b[m  \u001b[m\u001b[33m[arg-type]\u001b[m\n",
      "example-15.py:23: \u001b[1m\u001b[31merror:\u001b[m Argument 1 to \u001b[m\u001b[1m\"process_number\"\u001b[m has incompatible type \u001b[m\u001b[1m\"Literal[4]\"\u001b[m; expected \u001b[m\u001b[1m\"Literal[1, 2, 3]\"\u001b[m  \u001b[m\u001b[33m[arg-type]\u001b[m\n",
      "\u001b[1m\u001b[31mFound 2 errors in 1 file (checked 1 source file)\u001b[m\n",
      "Setting light color to: red\n",
      "Setting light color to: yellow\n",
      "Processing number: 2\n",
      "Processing number: 4\n"
     ]
    }
   ],
   "source": [
    "# Example 15\n",
    "!cat example-15.py\n",
    "!mypy example-15.py\n",
    "!python example-15.py"
   ]
  },
  {
   "cell_type": "code",
   "execution_count": 27,
   "id": "833ec8af",
   "metadata": {},
   "outputs": [
    {
     "name": "stdout",
     "output_type": "stream",
     "text": [
      "from typing import Final\n",
      "\n",
      "MAX_CONNECTIONS: Final[int] = 100\n",
      "# Run this code twice with mypy by uncommenting the below line\n",
      "#  \n",
      "MAX_CONNECTIONS = 200 # Mypy error: Cannot assign to final name \"MAX_CONNECTIONS\"\n",
      "\n",
      "class Config:\n",
      "    DEBUG_MODE: Final[bool] = True\n",
      "\n",
      "    def set_debug(self, value: bool) -> None:\n",
      "        # self.DEBUG_MODE = value # Mypy error: Cannot assign to final attribute\n",
      "        pass\n",
      "\n",
      "example-16.py:6: \u001b[1m\u001b[31merror:\u001b[m Cannot assign to final name \u001b[m\u001b[1m\"MAX_CONNECTIONS\"\u001b[m  \u001b[m\u001b[33m[misc]\u001b[m\n",
      "\u001b[1m\u001b[31mFound 1 error in 1 file (checked 1 source file)\u001b[m\n"
     ]
    }
   ],
   "source": [
    "# Example 16\n",
    "!cat example-16.py\n",
    "!mypy example-16.py"
   ]
  },
  {
   "cell_type": "code",
   "execution_count": null,
   "id": "9d979dcd",
   "metadata": {},
   "outputs": [],
   "source": []
  }
 ],
 "metadata": {
  "kernelspec": {
   "display_name": "l-pydantic",
   "language": "python",
   "name": "python3"
  },
  "language_info": {
   "codemirror_mode": {
    "name": "ipython",
    "version": 3
   },
   "file_extension": ".py",
   "mimetype": "text/x-python",
   "name": "python",
   "nbconvert_exporter": "python",
   "pygments_lexer": "ipython3",
   "version": "3.12.11"
  }
 },
 "nbformat": 4,
 "nbformat_minor": 5
}
