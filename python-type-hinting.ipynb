{
 "cells": [
  {
   "cell_type": "markdown",
   "id": "ac3520e7",
   "metadata": {},
   "source": [
    "# Python Type Hinting - Tutorial\n",
    "This will be the hands on guide for python type hinting. "
   ]
  },
  {
   "cell_type": "code",
   "execution_count": 1,
   "id": "b3acefbd",
   "metadata": {},
   "outputs": [
    {
     "name": "stdout",
     "output_type": "stream",
     "text": [
      "Without Type Hinting: 5\n",
      "With Type Hinting: 5\n"
     ]
    }
   ],
   "source": [
    "# Example 1\n",
    "# Without type hints\n",
    "def add(a, b):\n",
    "    return a + b\n",
    "\n",
    "# With type hints\n",
    "def add_with_hints(a: int, b: int) -> int:\n",
    "    return a + b\n",
    "\n",
    "print(f'Without Type Hinting: {add(2,3)}')\n",
    "print(f'With Type Hinting: {add(2,3)}')"
   ]
  },
  {
   "cell_type": "code",
   "execution_count": 2,
   "id": "d58d2cff",
   "metadata": {},
   "outputs": [
    {
     "name": "stdout",
     "output_type": "stream",
     "text": [
      "Hello, 123\n"
     ]
    }
   ],
   "source": [
    "# Example 2\n",
    "def greet(name: str) -> str:\n",
    "    return f\"Hello, {name}\"\n",
    "\n",
    "# This will run without a TypeError at runtime,\n",
    "# even though the type hint says 'name' should be a string.\n",
    "# A static type checker would flag this.\n",
    "result = greet(123)\n",
    "print(result) # Output: \"Hello, 123\" (runtime behavior)\n"
   ]
  },
  {
   "cell_type": "code",
   "execution_count": 3,
   "id": "80aeab16",
   "metadata": {},
   "outputs": [
    {
     "name": "stdout",
     "output_type": "stream",
     "text": [
      "# basic mypy usage example\n",
      "def greet(name: str) -> str:\n",
      "   return f\"Hello, {name}\"\n",
      "\n",
      "result = greet(123)\n",
      "print(result)\n",
      "\n",
      "basic-mypy-usage-example.py:5: \u001b[1m\u001b[31merror:\u001b[m Argument 1 to \u001b[m\u001b[1m\"greet\"\u001b[m has incompatible type \u001b[m\u001b[1m\"int\"\u001b[m; expected \u001b[m\u001b[1m\"str\"\u001b[m  \u001b[m\u001b[33m[arg-type]\u001b[m\n",
      "\u001b[1m\u001b[31mFound 1 error in 1 file (checked 1 source file)\u001b[m\n"
     ]
    }
   ],
   "source": [
    "# Example 3\n",
    "!cat basic-mypy-usage-example.py\n",
    "!mypy basic-mypy-usage-example.py\n",
    "#!python basic-mypy-usage-example.py"
   ]
  },
  {
   "cell_type": "code",
   "execution_count": 6,
   "id": "da1b5e38",
   "metadata": {},
   "outputs": [
    {
     "name": "stdout",
     "output_type": "stream",
     "text": [
      "# Basic types\n",
      "age: int = 30\n",
      "name: str = \"Alice\"\n",
      "price: float = 99.99\n",
      "is_active: bool = True\n",
      "\n",
      "# Variable without an initial value\n",
      "# This is useful for clarity, though `mypy` can often infer\n",
      "# if you assign later.\n",
      "country: str\n",
      "country = \"Sri Lanka\"\n",
      "\n",
      "# Bad practice: changing type after assignment (mypy will flag)\n",
      "greeting: str = \"Hello\"\n",
      "greeting = 123 # Mypy error!\n",
      "\n",
      "basic-variable-type-hinting.py:15: \u001b[1m\u001b[31merror:\u001b[m Incompatible types in assignment (expression has type \u001b[m\u001b[1m\"int\"\u001b[m, variable has type \u001b[m\u001b[1m\"str\"\u001b[m)  \u001b[m\u001b[33m[assignment]\u001b[m\n",
      "\u001b[1m\u001b[31mFound 1 error in 1 file (checked 1 source file)\u001b[m\n"
     ]
    }
   ],
   "source": [
    "# Example 4\n",
    "!cat basic-variable-type-hinting.py\n",
    "!mypy basic-variable-type-hinting.py\n"
   ]
  },
  {
   "cell_type": "code",
   "execution_count": 4,
   "id": "4fdfacdc",
   "metadata": {},
   "outputs": [
    {
     "name": "stdout",
     "output_type": "stream",
     "text": [
      "Hello, Bob!\n",
      "Area: 17.6\n"
     ]
    }
   ],
   "source": [
    "# Example 5\n",
    "# Function with type hints\n",
    "# input parameter person_name is a string\n",
    "# return type is None   \n",
    "def say_hello(person_name: str) -> None:\n",
    "    \"\"\"Greets a person by name.\"\"\"\n",
    "    print(f\"Hello, {person_name}!\")\n",
    "# input parameters length and width are both float\n",
    "# return type is float  \n",
    "def calculate_area(length: float, width: float) -> float:\n",
    "    \"\"\"Calculates the area of a rectangle.\"\"\"\n",
    "    return length * width\n",
    "\n",
    "# Calling the functions\n",
    "say_hello(\"Bob\")\n",
    "area = calculate_area(5.5, 3.2)\n",
    "print(f\"Area: {area}\")\n"
   ]
  },
  {
   "cell_type": "code",
   "execution_count": 5,
   "id": "54f93ffd",
   "metadata": {},
   "outputs": [
    {
     "name": "stdout",
     "output_type": "stream",
     "text": [
      "# Function with type hints\n",
      "# input parameter first and last both are strings\n",
      "# return type is a string\n",
      "def get_full_name(first: str, last: str) -> str:\n",
      "    \"\"\"Returns the full name.\"\"\"\n",
      "    return f\"{first} {last}\"\n",
      "# Input parameter message is a string\n",
      "# Return type is None\n",
      "def print_message(message: str) -> None:\n",
      "    \"\"\"Prints a message. Returns nothing.\"\"\"\n",
      "    print(message)\n",
      "\n",
      "# Functions returning None\n",
      "# input event_date is a string\n",
      "# Since the return type is not explicitly specified, it's None\n",
      "def log_event(event_data: str):\n",
      "    \"\"\"Logs an event. No explicit return type, implies None.\"\"\"\n",
      "    print(f\"Logging: {event_data}\")\n",
      "\n",
      "# mypy would infer `None` for `log_event` even without `-> None`\n",
      "# but it's good practice to mention the return type for clarity.\n",
      "\n",
      "\u001b[1m\u001b[32mSuccess: no issues found in 1 source file\u001b[m\n"
     ]
    }
   ],
   "source": [
    "# Example 6\n",
    "!cat example-6.py\n",
    "!mypy example-6.py"
   ]
  },
  {
   "cell_type": "code",
   "execution_count": 8,
   "id": "f71623da",
   "metadata": {},
   "outputs": [
    {
     "name": "stdout",
     "output_type": "stream",
     "text": [
      "from typing import Optional\n",
      "\n",
      "def get_user_email(user_id: int) -> Optional[str]:\n",
      "    \"\"\"\n",
      "    Returns user email if found, otherwise None.\n",
      "    \"\"\"\n",
      "    if user_id == 1:\n",
      "        return \"alice@example.com\"\n",
      "    return None\n",
      "\n",
      "user_email = get_user_email(1)\n",
      "if user_email: # Recommended way to check for None\n",
      "    print(f\"User email: {user_email.upper()}\")\n",
      "else:\n",
      "    print(\"User not found.\")\n",
      "\n",
      "user_email_2 = get_user_email(2)\n",
      "# mypy will warn if you try to call .upper() on user_email_2 directly\n",
      "# without a None check, because it knows Optional[str] might be None.\n",
      "#\n",
      "# Run mypy again after uncommenting below\n",
      "print(user_email_2.upper()) # Mypy error!\n",
      "\n",
      "example-7.py:22: \u001b[1m\u001b[31merror:\u001b[m Item \u001b[m\u001b[1m\"None\"\u001b[m of \u001b[m\u001b[1m\"str | None\"\u001b[m has no attribute \u001b[m\u001b[1m\"upper\"\u001b[m  \u001b[m\u001b[33m[union-attr]\u001b[m\n",
      "\u001b[1m\u001b[31mFound 1 error in 1 file (checked 1 source file)\u001b[m\n"
     ]
    }
   ],
   "source": [
    "# Example 7\n",
    "! cat example-7.py\n",
    "! mypy example-7.py"
   ]
  },
  {
   "cell_type": "code",
   "execution_count": 9,
   "id": "9e2ee3ee",
   "metadata": {},
   "outputs": [
    {
     "name": "stdout",
     "output_type": "stream",
     "text": [
      "from typing import Union\n",
      "\n",
      "def process_input(value: Union[str, int]) -> Union[str, int]:\n",
      "    \"\"\"\n",
      "    Processes input which can be a string or an integer.\n",
      "    Returns processed string or integer.\n",
      "    \"\"\"\n",
      "    if isinstance(value, int):\n",
      "        return value * 2\n",
      "    else: # It must be a string\n",
      "        return value.upper()\n",
      "\n",
      "print(process_input(10))     # Output: 20\n",
      "print(process_input(\"hello\")) # Output: HELLO\n",
      "\n",
      "# Python 3.10+ simplified Union syntax (PEP 604)\n",
      "def process_input_310_plus(value: str | int) -> str | int:\n",
      "    \"\"\"Same as above, using the new pipe syntax.\"\"\"\n",
      "    if isinstance(value, int):\n",
      "        return value * 2\n",
      "    else:\n",
      "        return value.upper()\n",
      "\n",
      "\u001b[1m\u001b[32mSuccess: no issues found in 1 source file\u001b[m\n"
     ]
    }
   ],
   "source": [
    "# Example 8\n",
    "!cat example-8.py\n",
    "!mypy example-8.py"
   ]
  },
  {
   "cell_type": "code",
   "execution_count": 14,
   "id": "37a50a5d",
   "metadata": {},
   "outputs": [
    {
     "name": "stdout",
     "output_type": "stream",
     "text": [
      "from typing import List, Tuple, Dict, Set\n",
      "from typing import Union\n",
      "\n",
      "# List of integers\n",
      "numbers: List[int] = [1, 2, 3]\n",
      "\n",
      "# List of strings\n",
      "names: List[str] = [\"Alice\", \"Bob\", \"Charlie\"]\n",
      "\n",
      "# List with both strings and integers\n",
      "values: List[Union[str, int]] = [\"hello\", 123]\n",
      "\n",
      "# Tuple with specific types at each position (fixed size)\n",
      "user_data: Tuple[str, int, bool] = (\"Alice\", 30, True)\n",
      "\n",
      "# Tuple with all elements of the same type (variable size)\n",
      "# (Used less often than List for homogenous collections)\n",
      "coordinates: Tuple[float, ...] = (10.5, 20.0, 30.1)\n",
      "\n",
      "# Dictionary with string keys and integer values\n",
      "scores: Dict[str, int] = {\"Math\": 90, \"Science\": 85}\n",
      "\n",
      "# Dictionary with string keys and string or integer values\n",
      "user_info: Dict[str, Union[str, int]] = {\"name\": \"Alice\", \"age\": 30}\n",
      "\n",
      "# Set of strings\n",
      "tags: Set[str] = {\"python\", \"programming\", \"types\"}\n",
      "\n",
      "# Nested types\n",
      "data: Dict[str, List[int]] = {\"even\": [2, 4], \"odd\": [1, 3]}\n",
      "\n",
      "# Python 3.9+ simplified generic types (PEP 585)\n",
      "# You can use `list[int]` instead of `List[int]` etc.\n",
      "# This is now the preferred way.\n",
      "new_numbers: list[int] = [1, 2, 3]\n",
      "new_scores: dict[str, int] = {\"Math\": 90, \"Science\": 85}\n",
      "\n",
      "# Same above in python 3.9+\n",
      "# List with both strings and integers\n",
      "values2: list[str | int] = [\"hello\", 123]\n",
      "\n",
      "# Dictionary with string keys and string or integer values\n",
      "user_info2: Dict[str, str | int] = {\"name\": \"Alice\", \"age\": 30}\n",
      "\n",
      "\u001b[1m\u001b[32mSuccess: no issues found in 1 source file\u001b[m\n"
     ]
    }
   ],
   "source": [
    "# Example 9\n",
    "!cat example-9.py\n",
    "!mypy example-9.py"
   ]
  },
  {
   "cell_type": "code",
   "execution_count": 15,
   "id": "e5babbf7",
   "metadata": {},
   "outputs": [
    {
     "name": "stdout",
     "output_type": "stream",
     "text": [
      "from typing import List, Tuple, Dict, Union # Use built-in generics in 3.9+\n",
      "\n",
      "# Example 1: TypeAlias (from Python 3.10)\n",
      "from typing import TypeAlias\n",
      "# Defining the alias \n",
      "Vector = List[float] # Or `list[float]` in 3.9+\n",
      "\n",
      "def scale_vector(scalar: float, vector: Vector) -> Vector:\n",
      "    return [scalar * num for num in vector]\n",
      "\n",
      "# Example 2: `type` statement (from Python 3.12)\n",
      "type Point = Tuple[int, int] # Or `tuple[int, int]` in 3.9+\n",
      "type UserDict = Dict[str, Union[str, int, bool]] # Or `dict[str, str | int | bool]` in 3.9+\n",
      "\n",
      "def get_distance(p1: Point, p2: Point) -> float:\n",
      "    return ((p1[0] - p2[0])**2 + (p1[1] - p2[1])**2)**0.5\n",
      "\n",
      "def process_user_data(user: UserDict) -> str:\n",
      "    return f\"User: {user['name']}, Age: {user['age']}\"\n",
      "\n",
      "# Old way (before 3.10 for TypeAlias, before 3.12 for `type` statement)\n",
      "# Position = Tuple[float, float, float]\n",
      "# def get_position() -> Position:\n",
      "#     return (1.0, 2.0, 3.0)\n",
      "\n",
      "\u001b[1m\u001b[32mSuccess: no issues found in 1 source file\u001b[m\n"
     ]
    }
   ],
   "source": [
    "# Example 10\n",
    "!cat example-10.py\n",
    "!mypy example-10.py"
   ]
  },
  {
   "cell_type": "code",
   "execution_count": 10,
   "id": "d0160937",
   "metadata": {},
   "outputs": [
    {
     "name": "stdout",
     "output_type": "stream",
     "text": [
      "from typing import Any\n",
      "\n",
      "def process_anything(data: Any) -> Any:\n",
      "    \"\"\"Processes data of any type and returns data of any type.\"\"\"\n",
      "    print(f\"Processing: {data} of type {type(data)}\")\n",
      "    return data\n",
      "\n",
      "process_anything(\"hello\")\n",
      "process_anything(123)\n",
      "process_anything([1, 2, 3])\n",
      "\n",
      "\u001b[1m\u001b[32mSuccess: no issues found in 1 source file\u001b[m\n",
      "Processing: hello of type <class 'str'>\n",
      "Processing: 123 of type <class 'int'>\n",
      "Processing: [1, 2, 3] of type <class 'list'>\n"
     ]
    }
   ],
   "source": [
    "# Example 11\n",
    "!cat example-11.py\n",
    "!mypy example-11.py\n",
    "!python example-11.py"
   ]
  },
  {
   "cell_type": "code",
   "execution_count": 11,
   "id": "2ec6e851",
   "metadata": {},
   "outputs": [
    {
     "name": "stdout",
     "output_type": "stream",
     "text": [
      "# We define a custom class called Dog\n",
      "class Dog:\n",
      "    def __init__(self, name: str, age: int):\n",
      "        self.name: str = name\n",
      "        self.age: int = age\n",
      "\n",
      "    def bark(self) -> str:\n",
      "        return f\"{self.name} says Woof!\"\n",
      "# We use that custom class as a type hint\n",
      "def get_dog_info(dog: Dog) -> str:\n",
      "    \"\"\"Returns information about a dog.\"\"\"\n",
      "    return f\"Name: {dog.name}, Age: {dog.age}, Bark: {dog.bark()}\"\n",
      "\n",
      "my_dog = Dog(\"Buddy\", 5)\n",
      "print(get_dog_info(my_dog))\n",
      "\n",
      "\u001b[1m\u001b[32mSuccess: no issues found in 1 source file\u001b[m\n",
      "Name: Buddy, Age: 5, Bark: Buddy says Woof!\n"
     ]
    }
   ],
   "source": [
    "# Example 12\n",
    "!cat example-12.py\n",
    "!mypy example-12.py\n",
    "!python example-12.py"
   ]
  },
  {
   "cell_type": "code",
   "execution_count": 21,
   "id": "c2571a4e",
   "metadata": {},
   "outputs": [
    {
     "name": "stdout",
     "output_type": "stream",
     "text": [
      "class Circle:\n",
      "    pi: float = 3.14159  # Class variable\n",
      "    radius: float\n",
      "\n",
      "    def __init__(self, radius: float):\n",
      "        self.radius: float = radius\n",
      "\n",
      "    def area(self) -> float:\n",
      "        return self.pi * (self.radius ** 2)\n",
      "\n",
      "c = Circle(10.0)\n",
      "print(f\"Circle area: {c.area()}\")\n",
      "\n",
      "\u001b[1m\u001b[32mSuccess: no issues found in 1 source file\u001b[m\n",
      "Circle area: 314.159\n"
     ]
    }
   ],
   "source": [
    "# Example 13\n",
    "!cat example-13.py\n",
    "!mypy example-13.py\n",
    "!python example-13.py"
   ]
  },
  {
   "cell_type": "code",
   "execution_count": 23,
   "id": "40900576",
   "metadata": {},
   "outputs": [
    {
     "name": "stdout",
     "output_type": "stream",
     "text": [
      "from typing import Callable, List, Any\n",
      "\n",
      "# A function that takes an int and returns a str\n",
      "def format_number(num: int) -> str:\n",
      "    return f\"Number: {num}\"\n",
      "\n",
      "def apply_formatter(numbers: List[int], formatter: Callable[[int], str]) -> List[str]:\n",
      "    \"\"\"Applies a formatter function to each number in a list.\"\"\"\n",
      "    return [formatter(n) for n in numbers]\n",
      "\n",
      "numbers_list = [10, 20, 30]\n",
      "formatted_strings = apply_formatter(numbers_list, format_number)\n",
      "print(formatted_strings) # Output: ['Number: 10', 'Number: 20', 'Number: 30']\n",
      "\n",
      "# Callable with no arguments and no return value\n",
      "def log_action(action: Callable[[], None]) -> None:\n",
      "    print(\"Performing action...\")\n",
      "    action()\n",
      "    print(\"Action complete.\")\n",
      "\n",
      "def send_notification():\n",
      "    print(\"Sending notification...\")\n",
      "\n",
      "log_action(send_notification)\n",
      "\n",
      "# Callable with arbitrary arguments (use `...`)\n",
      "def execute_callback(callback: Callable[..., Any], *args: Any, **kwargs: Any) -> Any:\n",
      "    \"\"\"Executes a callback with arbitrary arguments.\"\"\"\n",
      "    return callback(*args, **kwargs)\n",
      "\n",
      "def sum_two(a: int, b: int) -> int:\n",
      "    return a + b\n",
      "\n",
      "print(execute_callback(sum_two, 5, 7)) # Output: 12\n",
      "\n",
      "\u001b[1m\u001b[32mSuccess: no issues found in 1 source file\u001b[m\n",
      "['Number: 10', 'Number: 20', 'Number: 30']\n",
      "Performing action...\n",
      "Sending notification...\n",
      "Action complete.\n",
      "12\n"
     ]
    }
   ],
   "source": [
    "# Example 14\n",
    "!cat example-14.py\n",
    "!mypy example-14.py\n",
    "!python example-14.py"
   ]
  },
  {
   "cell_type": "code",
   "execution_count": 12,
   "id": "4701e28b",
   "metadata": {},
   "outputs": [
    {
     "name": "stdout",
     "output_type": "stream",
     "text": [
      "from typing import Literal\n",
      "\n",
      "# Can only be 'red', 'green', or 'blue'\n",
      "Color = Literal[\"red\", \"green\", \"blue\"]\n",
      "\n",
      "def set_light_color(color: Color) -> None:\n",
      "    print(f\"Setting light color to: {color}\")\n",
      "\n",
      "set_light_color(\"red\")\n",
      "# Lets run this code twice with mypy by uncommenting the below line\n",
      "#\n",
      "set_light_color(\"yellow\") # Mypy error!\n",
      "\n",
      "# Can only be 1, 2, 3\n",
      "Number = Literal[1, 2, 3]\n",
      "\n",
      "def process_number(num: Number) -> None:\n",
      "    print(f\"Processing number: {num}\")\n",
      "\n",
      "process_number(2)\n",
      "# Lets run this code twice with mypy by uncommenting the below line\n",
      "#\n",
      "process_number(4) # Mypy error!\n",
      "\n",
      "example-15.py:12: \u001b[1m\u001b[31merror:\u001b[m Argument 1 to \u001b[m\u001b[1m\"set_light_color\"\u001b[m has incompatible type \u001b[m\u001b[1m\"Literal['yellow']\"\u001b[m; expected \u001b[m\u001b[1m\"Literal['red', 'green', 'blue']\"\u001b[m  \u001b[m\u001b[33m[arg-type]\u001b[m\n",
      "example-15.py:23: \u001b[1m\u001b[31merror:\u001b[m Argument 1 to \u001b[m\u001b[1m\"process_number\"\u001b[m has incompatible type \u001b[m\u001b[1m\"Literal[4]\"\u001b[m; expected \u001b[m\u001b[1m\"Literal[1, 2, 3]\"\u001b[m  \u001b[m\u001b[33m[arg-type]\u001b[m\n",
      "\u001b[1m\u001b[31mFound 2 errors in 1 file (checked 1 source file)\u001b[m\n",
      "Setting light color to: red\n",
      "Setting light color to: yellow\n",
      "Processing number: 2\n",
      "Processing number: 4\n"
     ]
    }
   ],
   "source": [
    "# Example 15\n",
    "!cat example-15.py\n",
    "!mypy example-15.py\n",
    "!python example-15.py"
   ]
  },
  {
   "cell_type": "code",
   "execution_count": 1,
   "id": "833ec8af",
   "metadata": {},
   "outputs": [
    {
     "name": "stdout",
     "output_type": "stream",
     "text": [
      "from typing import Final\n",
      "\n",
      "MAX_CONNECTIONS: Final[int] = 100\n",
      "# Run this code twice with mypy by uncommenting the below line\n",
      "#  \n",
      "MAX_CONNECTIONS = 200 # Mypy error: Cannot assign to final name \"MAX_CONNECTIONS\"\n",
      "\n",
      "class Config:\n",
      "    DEBUG_MODE: Final[bool] = True\n",
      "\n",
      "    def set_debug(self, value: bool) -> None:\n",
      "        # self.DEBUG_MODE = value # Mypy error: Cannot assign to final attribute\n",
      "        pass\n",
      "\n",
      "example-16.py:6: \u001b[1m\u001b[31merror:\u001b[m Cannot assign to final name \u001b[m\u001b[1m\"MAX_CONNECTIONS\"\u001b[m  \u001b[m\u001b[33m[misc]\u001b[m\n",
      "\u001b[1m\u001b[31mFound 1 error in 1 file (checked 1 source file)\u001b[m\n"
     ]
    }
   ],
   "source": [
    "# Example 16\n",
    "!cat example-16.py\n",
    "!mypy example-16.py"
   ]
  },
  {
   "cell_type": "code",
   "execution_count": null,
   "id": "9d979dcd",
   "metadata": {},
   "outputs": [
    {
     "name": "stdout",
     "output_type": "stream",
     "text": [
      "from typing import TypedDict, List, Optional, NotRequired\n",
      "\n",
      "# User with email as an optional. But the key should be present. \n",
      "# The email key can have either a string or None.\n",
      "class User(TypedDict):\n",
      "    name: str\n",
      "    age: int\n",
      "    email: Optional[str] # Optional key\n",
      "    is_active: bool\n",
      "    roles: List[str]\n",
      "\n",
      "# Another User definition.\n",
      "# Email key is not required but if key is present then it should be a string or None.\n",
      "class User2(TypedDict):\n",
      "    name: str\n",
      "    age: int\n",
      "    email: NotRequired[Optional[str]]\n",
      "    is_active: bool\n",
      "    roles: List[str]\n",
      "\n",
      "# Another User definition\n",
      "# Email key is not required, but if present, it should be a string.\n",
      "class User3(TypedDict):\n",
      "    name: str\n",
      "    age: int\n",
      "    email: NotRequired[str]\n",
      "    is_active: bool\n",
      "    roles: List[str]\n",
      "\n",
      "def register_user(user_data: User) -> None:\n",
      "    print(f\"Registering user: {user_data['name']}\")\n",
      "    if user_data.get('email'):\n",
      "        print(f\"Email: {user_data['email']}\")\n",
      "    print(f\"Roles: {', '.join(user_data['roles'])}\")\n",
      "\n",
      "# Revising the Register User function accordingly\n",
      "def register_user2(user_data: User2) -> None:\n",
      "    print(f\"Registering user: {user_data['name']}\")\n",
      "    if user_data.get('email'):\n",
      "        print(f\"Email: {user_data['email']}\")\n",
      "    print(f\"Roles: {', '.join(user_data['roles'])}\")\n",
      "# Revising the Register User function accordingly\n",
      "def register_user3(user_data: User3) -> None:\n",
      "    print(f\"Registering user: {user_data['name']}\")\n",
      "    if user_data.get('email'):\n",
      "        print(f\"Email: {user_data['email']}\")\n",
      "    print(f\"Roles: {', '.join(user_data['roles'])}\")\n",
      "\n",
      "# Valid usage\n",
      "new_user: User = {\n",
      "    \"name\": \"Charlie\",\n",
      "    \"age\": 25,\n",
      "    \"email\": \"charlie@example.com\",\n",
      "    \"is_active\": True,\n",
      "    \"roles\": [\"viewer\"]\n",
      "}\n",
      "register_user(new_user)\n",
      "\n",
      "# Valid usage (email is not available hence setting to None)\n",
      "another_user: User = {\n",
      "    \"name\": \"David\",\n",
      "    \"age\": 40,\n",
      "    \"email\": None,\n",
      "    \"is_active\": False,\n",
      "    \"roles\": [\"admin\", \"editor\"]\n",
      "}\n",
      "register_user(another_user)\n",
      "\n",
      "# Valid usage (email if present is a string, if not present then None)\n",
      "another_user2_1: User2 = {\n",
      "    \"name\": \"David\",\n",
      "    \"age\": 40,\n",
      "    \"is_active\": False,\n",
      "    \"roles\": [\"admin\", \"editor\"]\n",
      "}\n",
      "register_user2(another_user2_1)\n",
      "\n",
      "another_user2_2: User2 = {\n",
      "    \"name\": \"David\",\n",
      "    \"age\": 40,\n",
      "    \"email\": None,\n",
      "    \"is_active\": False,\n",
      "    \"roles\": [\"admin\", \"editor\"]\n",
      "}\n",
      "register_user2(another_user2_2)\n",
      "\n",
      "another_user2_3: User2 = {\n",
      "    \"name\": \"David\",\n",
      "    \"age\": 40,\n",
      "    \"email\": \"david@example.com\",\n",
      "    \"is_active\": False,\n",
      "    \"roles\": [\"admin\", \"editor\"]\n",
      "}\n",
      "register_user2(another_user2_3)\n",
      "\n",
      "\n",
      "# Valid usage (email if present is a string, but can't be a None)\n",
      "another_user3_1: User3 = {\n",
      "    \"name\": \"David\",\n",
      "    \"age\": 40,\n",
      "    \"is_active\": False,\n",
      "    \"roles\": [\"admin\", \"editor\"]\n",
      "}\n",
      "register_user3(another_user3_1)\n",
      "\n",
      "another_user3_2: User3 = {\n",
      "    \"name\": \"David\",\n",
      "    \"age\": 40,\n",
      "    \"email\": \"david@example.com\",\n",
      "    \"is_active\": False,\n",
      "    \"roles\": [\"admin\", \"editor\"]\n",
      "}\n",
      "register_user3(another_user3_2)\n",
      "\n",
      "# Run the above code twice with mypy by uncommenting the below line\n",
      "#\n",
      "# Mypy error: missing required key 'is_active'\n",
      "# invalid_user: User = {\"name\": \"Eve\", \"age\": 30}\n",
      "# register_user(invalid_user)\n",
      "\n",
      "# Mypy error: 'age' has wrong type\n",
      "# invalid_user_type: User = {\n",
      "#     \"name\": \"Frank\",\n",
      "#     \"age\": \"thirty\",\n",
      "#     \"is_active\": True,\n",
      "#     \"roles\": []\n",
      "# }\n",
      "# register_user(invalid_user_type)\n",
      "\n",
      "# You can also set `total=False` to make all keys optional by default\n",
      "class OptionalUser(TypedDict, total=False):\n",
      "    name: str\n",
      "    age: int\n",
      "    email: str\n",
      "\n",
      "def update_user(user_update: OptionalUser) -> None:\n",
      "    print(f\"Updating user with: {user_update}\")\n",
      "\n",
      "update_user({\"name\": \"Grace\"})\n",
      "update_user({\"email\": \"grace@example.com\", \"age\": 35})\n",
      "\n",
      "\u001b[1m\u001b[32mSuccess: no issues found in 1 source file\u001b[m\n",
      "Registering user: Charlie\n",
      "Email: charlie@example.com\n",
      "Roles: viewer\n",
      "Registering user: David\n",
      "Roles: admin, editor\n",
      "Registering user: David\n",
      "Roles: admin, editor\n",
      "Registering user: David\n",
      "Roles: admin, editor\n",
      "Registering user: David\n",
      "Email: david@example.com\n",
      "Roles: admin, editor\n",
      "Registering user: David\n",
      "Roles: admin, editor\n",
      "Registering user: David\n",
      "Email: david@example.com\n",
      "Roles: admin, editor\n",
      "Updating user with: {'name': 'Grace'}\n",
      "Updating user with: {'email': 'grace@example.com', 'age': 35}\n"
     ]
    }
   ],
   "source": [
    "# Example 17\n",
    "!cat example-17.py\n",
    "!mypy example-17.py \n",
    "!python example-17.py"
   ]
  },
  {
   "cell_type": "code",
   "execution_count": 9,
   "id": "449b3cba",
   "metadata": {},
   "outputs": [
    {
     "name": "stdout",
     "output_type": "stream",
     "text": [
      "from typing import TypeVar, List, Generic\n",
      "\n",
      "# Define a TypeVar (T is a common convention for generic types)\n",
      "T = TypeVar('T')\n",
      "\n",
      "# Generic function: operates on a list of any type T, returns an element of type T\n",
      "def get_first_element(items: List[T]) -> T:\n",
      "    if not items:\n",
      "        raise ValueError(\"List cannot be empty\")\n",
      "    return items[0]\n",
      "\n",
      "# Works with List[int]\n",
      "first_int = get_first_element([1, 2, 3])\n",
      "print(f\"First int: {first_int}\") # mypy knows first_int is int\n",
      "\n",
      "# Works with List[str]\n",
      "first_str = get_first_element([\"a\", \"b\", \"c\"])\n",
      "print(f\"First str: {first_str}\") # mypy knows first_str is str\n",
      "\n",
      "# Mypy error: Incompatible types\n",
      "# first_float: float = get_first_element([\"a\", \"b\"])\n",
      "\n",
      "# Generic Class: A simple Stack\n",
      "class Stack(Generic[T]):\n",
      "    def __init__(self) -> None:\n",
      "        self._items: List[T] = []\n",
      "\n",
      "    def push(self, item: T) -> None:\n",
      "        self._items.append(item)\n",
      "\n",
      "    def pop(self) -> T:\n",
      "        if not self._items:\n",
      "            raise IndexError(\"pop from empty stack\")\n",
      "        return self._items.pop()\n",
      "\n",
      "    def is_empty(self) -> bool:\n",
      "        return len(self._items) == 0\n",
      "\n",
      "# Create a stack of integers\n",
      "int_stack: Stack[int] = Stack()\n",
      "int_stack.push(10)\n",
      "int_stack.push(20)\n",
      "print(int_stack.pop()) # Output: 20 (mypy knows it's an int)\n",
      "# int_stack.push(\"hello\") # Mypy error!\n",
      "\n",
      "# Create a stack of strings\n",
      "str_stack: Stack[str] = Stack()\n",
      "str_stack.push(\"apple\")\n",
      "print(str_stack.pop()) # Output: apple (mypy knows it's a str)\n",
      "\n",
      "\u001b[1m\u001b[32mSuccess: no issues found in 1 source file\u001b[m\n",
      "First int: 1\n",
      "First str: a\n",
      "20\n",
      "apple\n"
     ]
    }
   ],
   "source": [
    "# Example 18\n",
    "!cat example-18.py \n",
    "!mypy example-18.py \n",
    "!python example-18.py"
   ]
  },
  {
   "cell_type": "code",
   "execution_count": 10,
   "id": "0870fb44",
   "metadata": {},
   "outputs": [
    {
     "name": "stdout",
     "output_type": "stream",
     "text": [
      "from typing import TypeVar, Union\n",
      "\n",
      "# Can only be str or bytes\n",
      "StrOrBytes = TypeVar('StrOrBytes', str, bytes)\n",
      "\n",
      "def concat_items(item1: StrOrBytes, item2: StrOrBytes) -> StrOrBytes:\n",
      "    return item1 + item2\n",
      "\n",
      "print(concat_items(\"hello\", \"world\")) # Output: helloworld\n",
      "print(concat_items(b\"hello\", b\"world\")) # Output: b'helloworld'\n",
      "# print(concat_items(\"hello\", b\"world\")) # Mypy error: Incompatible types in assignment\n",
      "\n",
      "\u001b[1m\u001b[32mSuccess: no issues found in 1 source file\u001b[m\n",
      "helloworld\n",
      "b'helloworld'\n"
     ]
    }
   ],
   "source": [
    "# Example 19\n",
    "!cat example-19.py\n",
    "!mypy example-19.py \n",
    "!python example-19.py"
   ]
  },
  {
   "cell_type": "code",
   "execution_count": 12,
   "id": "06b72109",
   "metadata": {},
   "outputs": [
    {
     "name": "stdout",
     "output_type": "stream",
     "text": [
      "from typing import List, Protocol, runtime_checkable\n",
      "\n",
      "# Define a protocol for objects that can be drawn\n",
      "@runtime_checkable # Allows `isinstance` checks at runtime (optional, but useful)\n",
      "class Drawable(Protocol):\n",
      "    def draw(self) -> None:\n",
      "        ... # ... indicates an abstract method that must be implemented\n",
      "\n",
      "class Circle:\n",
      "    def draw(self) -> None:\n",
      "        print(\"Drawing a circle.\")\n",
      "\n",
      "class Square:\n",
      "    def draw(self) -> None:\n",
      "        print(\"Drawing a square.\")\n",
      "\n",
      "class Text:\n",
      "    def render(self) -> None: # Doesn't implement 'draw'\n",
      "        print(\"Rendering text.\")\n",
      "\n",
      "def render_scene(elements: List[Drawable]) -> None:\n",
      "    \"\"\"Renders a list of drawable elements.\"\"\"\n",
      "    for element in elements:\n",
      "        element.draw()\n",
      "\n",
      "render_scene([Circle(), Square()])\n",
      "\n",
      "# mypy will flag this because Text does not implement the `draw` method\n",
      "# render_scene([Circle(), Text()])\n",
      "\n",
      "# With @runtime_checkable, you can do runtime checks:\n",
      "my_circle = Circle()\n",
      "my_text = Text()\n",
      "\n",
      "print(isinstance(my_circle, Drawable)) # Output: True\n",
      "print(isinstance(my_text, Drawable))   # Output: False\n",
      "\n",
      "\u001b[1m\u001b[32mSuccess: no issues found in 1 source file\u001b[m\n",
      "Drawing a circle.\n",
      "Drawing a square.\n",
      "True\n",
      "False\n"
     ]
    }
   ],
   "source": [
    "# Example 20\n",
    "!cat example-20.py \n",
    "!mypy example-20.py\n",
    "!python example-20.py"
   ]
  },
  {
   "cell_type": "code",
   "execution_count": null,
   "id": "04cd447e",
   "metadata": {},
   "outputs": [
    {
     "name": "stdout",
     "output_type": "stream",
     "text": [
      "from typing import NewType\n",
      "\n",
      "UserId = NewType('UserId', int)\n",
      "ProductId = NewType('ProductId', int)\n",
      "\n",
      "def get_user_data(user_id: UserId) -> str:\n",
      "    return f\"Fetching data for user ID: {user_id}\"\n",
      "\n",
      "def get_product_info(product_id: ProductId) -> str:\n",
      "    return f\"Fetching info for product ID: {product_id}\"\n",
      "\n",
      "user_id_val = UserId(123)\n",
      "product_id_val = ProductId(456)\n",
      "\n",
      "print(get_user_data(user_id_val))\n",
      "print(get_product_info(product_id_val))\n",
      "\n",
      "# mypy will flag this, even though both are ints at runtime\n",
      "# print(get_user_data(product_id_val)) # Mypy error!\n",
      "\n",
      "# At runtime, NewType instances are just their underlying type:\n",
      "print(type(user_id_val)) # Output: <class 'int'>\n",
      "\n",
      "\u001b[1m\u001b[32mSuccess: no issues found in 1 source file\u001b[m\n",
      "Fetching data for user ID: 123\n",
      "Fetching info for product ID: 456\n",
      "<class 'int'>\n"
     ]
    }
   ],
   "source": [
    "UserID: int prefix = 'USERXXXXX'\n",
    "ProductID: int \n",
    "\n",
    "UserID = 123\n",
    "ProductID = 456 \n",
    "def get_user_data(user_id: int):\n",
    "\n",
    "# Example 21\n",
    "!cat example-21.py\n",
    "!mypy example-21.py\n",
    "!python example-21.py"
   ]
  },
  {
   "cell_type": "code",
   "execution_count": 14,
   "id": "119eb0b6",
   "metadata": {},
   "outputs": [
    {
     "name": "stdout",
     "output_type": "stream",
     "text": [
      "from typing import cast, List, Union\n",
      "\n",
      "def process_data(data: Union[List[int], List[str]]) -> None:\n",
      "    if isinstance(data, list):\n",
      "        # Mypy might not know that `data` is now List[int] or List[str]\n",
      "        # within this block, if the Union was more complex.\n",
      "        # `cast` helps the type checker here.\n",
      "        if all(isinstance(x, int) for x in data):\n",
      "            # Tell mypy that `data` is definitely a List[int] here\n",
      "            int_list = cast(List[int], data)\n",
      "            print(f\"Processing integers: {sum(int_list)}\")\n",
      "        elif all(isinstance(x, str) for x in data):\n",
      "            str_list = cast(List[str], data)\n",
      "            print(f\"Processing strings: {' '.join(str_list)}\")\n",
      "    else:\n",
      "        print(\"Unexpected data type.\")\n",
      "\n",
      "process_data([1, 2, 3])\n",
      "process_data([\"hello\", \"world\"])\n",
      "\n",
      "# Be careful: cast can lie to the type checker!\n",
      "# my_string: str = cast(str, 123) # Mypy won't complain here\n",
      "# print(my_string.upper()) # This would cause a runtime error\n",
      "\n",
      "\u001b[1m\u001b[32mSuccess: no issues found in 1 source file\u001b[m\n",
      "Processing integers: 6\n",
      "Processing strings: hello world\n"
     ]
    }
   ],
   "source": [
    "# Example 22\n",
    "!cat example-22.py\n",
    "!mypy example-22.py\n",
    "!python example-22.py"
   ]
  },
  {
   "cell_type": "code",
   "execution_count": 15,
   "id": "adfb6657",
   "metadata": {},
   "outputs": [
    {
     "name": "stdout",
     "output_type": "stream",
     "text": [
      "from typing import overload, Union\n",
      "\n",
      "# Overload 1: if 'arg' is int, return int\n",
      "@overload\n",
      "def process_value(arg: int) -> int:\n",
      "    ... # '...' indicates no implementation here, only signature\n",
      "\n",
      "# Overload 2: if 'arg' is str, return str\n",
      "@overload\n",
      "def process_value(arg: str) -> str:\n",
      "    ...\n",
      "\n",
      "# Overload 3: if 'arg' is a list of int, return float\n",
      "@overload\n",
      "def process_value(arg: list[int]) -> float:\n",
      "    ...\n",
      "\n",
      "# The actual implementation (must be type-compatible with all overloads)\n",
      "# This one is executed at runtime.\n",
      "def process_value(arg: Union[int, str, list[int]]) -> Union[int, str, float]:\n",
      "    if isinstance(arg, int):\n",
      "        return arg * 2\n",
      "    elif isinstance(arg, str):\n",
      "        return arg.upper()\n",
      "    elif isinstance(arg, list) and all(isinstance(x, int) for x in arg):\n",
      "        return sum(arg) / len(arg) if arg else 0.0\n",
      "    else:\n",
      "        raise TypeError(\"Unsupported argument type\")\n",
      "\n",
      "# Mypy will use the correct overload signature:\n",
      "x: int = process_value(10)      # mypy knows x is int\n",
      "y: str = process_value(\"hello\") # mypy knows y is str\n",
      "z: float = process_value([1, 2, 3]) # mypy knows z is float\n",
      "\n",
      "# Mypy error: No overload matches this call\n",
      "# result = process_value(True)\n",
      "# result = process_value([1, \"a\"])\n",
      "\n",
      "\u001b[1m\u001b[32mSuccess: no issues found in 1 source file\u001b[m\n"
     ]
    }
   ],
   "source": [
    "# Example 23\n",
    "!cat example-23.py \n",
    "!mypy example-23.py \n",
    "!python example-23.py "
   ]
  },
  {
   "cell_type": "code",
   "execution_count": 16,
   "id": "216a41ee",
   "metadata": {},
   "outputs": [
    {
     "name": "stdout",
     "output_type": "stream",
     "text": [
      "from typing import NoReturn\n",
      "\n",
      "def exit_program(error_code: int) -> NoReturn:\n",
      "    \"\"\"Exits the program with a given error code.\"\"\"\n",
      "    raise SystemExit(error_code)\n",
      "\n",
      "def infinite_loop() -> NoReturn:\n",
      "    \"\"\"Runs an infinite loop.\"\"\"\n",
      "    while True:\n",
      "        pass\n",
      "\n",
      "# mypy knows that code after calling these won't be reached\n",
      "# if you call `exit_program(1)`, mypy assumes the rest of the function is unreachable.\n",
      "\n",
      "\u001b[1m\u001b[32mSuccess: no issues found in 1 source file\u001b[m\n"
     ]
    }
   ],
   "source": [
    "# Example 24\n",
    "!cat example-24.py\n",
    "!mypy example-24.py \n",
    "!python example-24.py"
   ]
  },
  {
   "cell_type": "code",
   "execution_count": 18,
   "id": "c1db15a1",
   "metadata": {},
   "outputs": [
    {
     "name": "stdout",
     "output_type": "stream",
     "text": [
      "from typing import Annotated,Callable, Dict, Any\n",
      "from typing import List, Union # Use built-in generics in 3.9+\n",
      "\n",
      "# Example for FastAPI (though FastAPI has its own `Depends`, `Query`, etc.)\n",
      "# This is a general example of Annotated usage.\n",
      "\n",
      "def process_item(\n",
      "    item_id: Annotated[int, \"Item ID from URL\", {\"min_value\": 1}],\n",
      "    tags: Annotated[List[str], \"List of tags\", \"Must have at least one tag\"]\n",
      ") -> None:\n",
      "    print(f\"Processing item {item_id} with tags: {tags}\")\n",
      "\n",
      "# The annotations \"Item ID from URL\", {\"min_value\": 1}, etc.,\n",
      "# are accessible at runtime via `typing.get_args` and `typing.get_origin`.\n",
      "import typing\n",
      "\n",
      "def get_annotations(func: Callable) -> Dict[str, Any]:\n",
      "    hints = typing.get_type_hints(func, include_extras=True)\n",
      "    annotated_args = {}\n",
      "    for param_name, param_type in hints.items():\n",
      "        if typing.get_origin(param_type) is Annotated:\n",
      "            base_type, *metadata = typing.get_args(param_type)\n",
      "            annotated_args[param_name] = {\n",
      "                \"base_type\": base_type,\n",
      "                \"metadata\": metadata\n",
      "            }\n",
      "    return annotated_args\n",
      "\n",
      "print(get_annotations(process_item))\n",
      "# Output will show the base types and the metadata\n",
      "# {\n",
      "#     'item_id': {'base_type': <class 'int'>, 'metadata': ['Item ID from URL', {'min_value': 1}]},\n",
      "#     'tags': {'base_type': typing.List[str], 'metadata': ['List of tags', 'Must have at least one tag']}\n",
      "# }\n",
      "\n",
      "\u001b[1m\u001b[32mSuccess: no issues found in 1 source file\u001b[m\n",
      "{'item_id': {'base_type': <class 'int'>, 'metadata': ['Item ID from URL', {'min_value': 1}]}, 'tags': {'base_type': typing.List[str], 'metadata': ['List of tags', 'Must have at least one tag']}}\n"
     ]
    }
   ],
   "source": [
    "# Example 25\n",
    "!cat example-25.py \n",
    "!mypy example-25.py \n",
    "!python example-25.py "
   ]
  },
  {
   "cell_type": "code",
   "execution_count": null,
   "id": "4377b527",
   "metadata": {},
   "outputs": [
    {
     "name": "stdout",
     "output_type": "stream",
     "text": [
      "def create_user(\n",
      "    name: str,\n",
      "    age: int, /, # All arguments before / are positional-only\n",
      "    email: str,\n",
      "    *,           # All arguments after * are keyword-only\n",
      "    is_admin: bool = False\n",
      ") -> None:\n",
      "    print(f\"User: {name}, Age: {age}, Email: {email}, Admin: {is_admin}\")\n",
      "\n",
      "# Valid calls:\n",
      "create_user(\"Alice\", 30, email=\"alice@example.com\")\n",
      "create_user(\"Bob\", 25, email=\"bob@example.com\", is_admin=True)\n",
      "\n",
      "# Invalid calls (mypy will warn):\n",
      "# create_user(name=\"Charlie\", age=35, email=\"charlie@example.com\") # 'name' and 'age' cannot be keyword args\n",
      "# create_user(\"David\", 40, \"david@example.com\", True) # 'is_admin' must be keyword arg\n",
      "\n",
      "\u001b[1m\u001b[32mSuccess: no issues found in 1 source file\u001b[m\n",
      "User: Alice, Age: 30, Email: alice@example.com, Admin: False\n",
      "User: Bob, Age: 25, Email: bob@example.com, Admin: True\n"
     ]
    }
   ],
   "source": [
    "\n",
    "\n",
    "# Example 26\n",
    "!cat example-26.py\n",
    "!mypy example-26.py \n",
    "!python example-26.py"
   ]
  },
  {
   "cell_type": "code",
   "execution_count": null,
   "id": "61de0a5b",
   "metadata": {},
   "outputs": [],
   "source": []
  }
 ],
 "metadata": {
  "kernelspec": {
   "display_name": "l-pydantic",
   "language": "python",
   "name": "python3"
  },
  "language_info": {
   "codemirror_mode": {
    "name": "ipython",
    "version": 3
   },
   "file_extension": ".py",
   "mimetype": "text/x-python",
   "name": "python",
   "nbconvert_exporter": "python",
   "pygments_lexer": "ipython3",
   "version": "3.12.11"
  }
 },
 "nbformat": 4,
 "nbformat_minor": 5
}
